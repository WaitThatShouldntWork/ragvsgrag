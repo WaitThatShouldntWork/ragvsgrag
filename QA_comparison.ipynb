{
 "cells": [
  {
   "cell_type": "code",
   "execution_count": null,
   "metadata": {},
   "outputs": [],
   "source": [
    "import os\n",
    "from langchain.text_splitter import CharacterTextSplitter\n",
    "from langchain_community.document_loaders import TextLoader\n",
    "from langchain_community.vectorstores import Neo4jVector\n",
    "from langchain_openai import OpenAIEmbeddings\n",
    "from langchain_community.vectorstores import ElasticsearchStore\n",
    "\n",
    "#extract question from csv\n",
    "csv = []\n",
    "#put csv question to query\n",
    "query = \"\"\n",
    "\n",
    "def neo4j_demo(query):\n",
    "    loader = TextLoader(\"/Users/chrisbooth/Coding/ragvsgrag/MOD_IPR_Policy_Statement.txt\")\n",
    "\n",
    "    documents = loader.load()\n",
    "    text_splitter = CharacterTextSplitter(chunk_size=500, chunk_overlap=50)\n",
    "    docs = text_splitter.split_documents(documents)\n",
    "\n",
    "    # The Neo4jVector Module will connect to Neo4j and create a vector index if needed.\n",
    "\n",
    "    db = Neo4jVector.from_documents(\n",
    "        docs, embedding = OpenAIEmbeddings(), \n",
    "        url=os.getenv('NEO4J_URL'), \n",
    "        username=os.getenv('NEO4J_USERNAME'), \n",
    "        password=os.getenv('NEO4J_PASSWORD'),\n",
    "    )\n",
    "\n",
    "    query = \"How does the MOD view the exploitation of IP for the wider UK economy?\"\n",
    "    docs_with_score = db.similarity_search_with_score(query, k=2)\n",
    "\n",
    "    return docs_with_score\n",
    "\n",
    "# Create neo4j with Michaels new search\n",
    "\n",
    "def elastic(query):\n",
    "    embeddings = OpenAIEmbeddings()\n",
    "\n",
    "    loader = TextLoader(\"/Users/chrisbooth/Coding/ragvsgrag/MOD_IPR_Policy_Statement.txt\") #change to web scraper \n",
    "    documents = loader.load()\n",
    "    text_splitter = CharacterTextSplitter(chunk_size=500, chunk_overlap=0)\n",
    "    docs = text_splitter.split_documents(documents)\n",
    "\n",
    "    vectorstore = ElasticsearchStore.from_documents(\n",
    "        docs,\n",
    "        embedding=embeddings,\n",
    "        es_url=\"http://localhost:9200\",\n",
    "        es_user=\"elastic\",\n",
    "        es_password=\"cAe4zmUZlFg9+a78O4=F\",\n",
    "        index_name=\"test-basic\",\n",
    "    )\n",
    "\n",
    "    vectorstore.client.indices.refresh(index=\"test-basic\")\n",
    "\n",
    "    elastic_results = vectorstore.similarity_search(query)\n",
    "    \n",
    "    return elastic_results\n"
   ]
  },
  {
   "cell_type": "code",
   "execution_count": null,
   "metadata": {},
   "outputs": [],
   "source": [
    "#return answer and write info from each function of question back to csv\n",
    "\n",
    "\n",
    "#Generate a QA pair for comparison and scoring?\n",
    "# (Vineet said theyd feedback, grab that?)\n"
   ]
  }
 ],
 "metadata": {
  "kernelspec": {
   "display_name": "env",
   "language": "python",
   "name": "python3"
  },
  "language_info": {
   "name": "python",
   "version": "3.11.3"
  }
 },
 "nbformat": 4,
 "nbformat_minor": 2
}
